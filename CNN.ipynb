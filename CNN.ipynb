{
 "cells": [
  {
   "cell_type": "code",
   "execution_count": 7,
   "metadata": {},
   "outputs": [
    {
     "name": "stdout",
     "output_type": "stream",
     "text": [
      "env: KERAS_BACKEND=tensorflow\n"
     ]
    }
   ],
   "source": [
    "%env KERAS_BACKEND=tensorflow"
   ]
  },
  {
   "cell_type": "code",
   "execution_count": 8,
   "metadata": {},
   "outputs": [],
   "source": [
    "%matplotlib inline\n",
    "import numpy as np\n",
    "import matplotlib.pyplot as plt"
   ]
  },
  {
   "cell_type": "code",
   "execution_count": 9,
   "metadata": {},
   "outputs": [],
   "source": [
    "from keras.datasets import mnist"
   ]
  },
  {
   "cell_type": "code",
   "execution_count": 10,
   "metadata": {},
   "outputs": [],
   "source": [
    "(x_train, y_train), (x_test, y_test) = mnist.load_data()"
   ]
  },
  {
   "cell_type": "code",
   "execution_count": 11,
   "metadata": {},
   "outputs": [],
   "source": [
    "x_train=x_train.reshape(60000,28,28,1)\n",
    "x_test=x_test.reshape(10000,28,28,1)"
   ]
  },
  {
   "cell_type": "code",
   "execution_count": 12,
   "metadata": {},
   "outputs": [],
   "source": [
    "from keras.utils import np_utils\n",
    "\n",
    "y_train=np_utils.to_categorical(y_train,10)\n",
    "y_test=np_utils.to_categorical(y_test,10)\n",
    "x_train=x_train/255\n",
    "x_test=x_test/255"
   ]
  },
  {
   "cell_type": "code",
   "execution_count": 13,
   "metadata": {},
   "outputs": [],
   "source": [
    "from keras.models import Model\n",
    "from keras.layers import Dense,Activation,Input,Flatten\n",
    "from keras.layers import Conv2D,MaxPool2D\n",
    "from keras.optimizers import SGD,Adam,Adadelta"
   ]
  },
  {
   "cell_type": "code",
   "execution_count": 14,
   "metadata": {},
   "outputs": [],
   "source": [
    "f_1=Conv2D(4,(5,5),padding='same',activation='relu')\n",
    "p_1=MaxPool2D(pool_size=(2,2))\n",
    "f_2=Conv2D(8,(5,5),padding='same',activation='relu')\n",
    "p_2=MaxPool2D(pool_size=(2,2))\n",
    "f_3=Conv2D(16,(5,5),padding='same',activation='relu')\n",
    "p_3=MaxPool2D(pool_size=(2,2))\n",
    "\n",
    "flat=Flatten()\n",
    "d_1=Dense(9,activation='relu')\n",
    "d_2=Dense(10,activation='softmax')"
   ]
  },
  {
   "cell_type": "code",
   "execution_count": 15,
   "metadata": {},
   "outputs": [
    {
     "name": "stdout",
     "output_type": "stream",
     "text": [
      "WARNING:tensorflow:From /anaconda3/lib/python3.7/site-packages/tensorflow/python/framework/op_def_library.py:263: colocate_with (from tensorflow.python.framework.ops) is deprecated and will be removed in a future version.\n",
      "Instructions for updating:\n",
      "Colocations handled automatically by placer.\n"
     ]
    }
   ],
   "source": [
    "x=Input(shape=(28,28,1))\n",
    "h_1 = f_1(x)\n",
    "h_2 = p_1(h_1)\n",
    "h_3 = f_2(h_2)\n",
    "h_4 = p_2(h_3)\n",
    "h_5 = f_3(h_4)\n",
    "h_6 = p_3(h_5)\n",
    "h_7 = flat(h_6)\n",
    "h_8 = d_1(h_7)\n",
    "y    = d_2(h_8)\n",
    "\n",
    "model=Model(x,y)"
   ]
  },
  {
   "cell_type": "code",
   "execution_count": 16,
   "metadata": {},
   "outputs": [
    {
     "name": "stdout",
     "output_type": "stream",
     "text": [
      "_________________________________________________________________\n",
      "Layer (type)                 Output Shape              Param #   \n",
      "=================================================================\n",
      "input_1 (InputLayer)         (None, 28, 28, 1)         0         \n",
      "_________________________________________________________________\n",
      "conv2d_1 (Conv2D)            (None, 28, 28, 4)         104       \n",
      "_________________________________________________________________\n",
      "max_pooling2d_1 (MaxPooling2 (None, 14, 14, 4)         0         \n",
      "_________________________________________________________________\n",
      "conv2d_2 (Conv2D)            (None, 14, 14, 8)         808       \n",
      "_________________________________________________________________\n",
      "max_pooling2d_2 (MaxPooling2 (None, 7, 7, 8)           0         \n",
      "_________________________________________________________________\n",
      "conv2d_3 (Conv2D)            (None, 7, 7, 16)          3216      \n",
      "_________________________________________________________________\n",
      "max_pooling2d_3 (MaxPooling2 (None, 3, 3, 16)          0         \n",
      "_________________________________________________________________\n",
      "flatten_1 (Flatten)          (None, 144)               0         \n",
      "_________________________________________________________________\n",
      "dense_1 (Dense)              (None, 9)                 1305      \n",
      "_________________________________________________________________\n",
      "dense_2 (Dense)              (None, 10)                100       \n",
      "=================================================================\n",
      "Total params: 5,533\n",
      "Trainable params: 5,533\n",
      "Non-trainable params: 0\n",
      "_________________________________________________________________\n"
     ]
    }
   ],
   "source": [
    "model.summary()"
   ]
  },
  {
   "cell_type": "code",
   "execution_count": 17,
   "metadata": {},
   "outputs": [],
   "source": [
    "model.compile(loss='categorical_crossentropy',optimizer=SGD(lr=0.07),metrics=['accuracy'])"
   ]
  },
  {
   "cell_type": "code",
   "execution_count": 18,
   "metadata": {},
   "outputs": [
    {
     "name": "stdout",
     "output_type": "stream",
     "text": [
      "WARNING:tensorflow:From /anaconda3/lib/python3.7/site-packages/tensorflow/python/ops/math_ops.py:3066: to_int32 (from tensorflow.python.ops.math_ops) is deprecated and will be removed in a future version.\n",
      "Instructions for updating:\n",
      "Use tf.cast instead.\n",
      "Epoch 1/10\n",
      "60000/60000 [==============================] - 31s 522us/step - loss: 2.2655 - acc: 0.1828\n",
      "Epoch 2/10\n",
      "60000/60000 [==============================] - 27s 447us/step - loss: 1.6598 - acc: 0.4230\n",
      "Epoch 3/10\n",
      "60000/60000 [==============================] - 34s 571us/step - loss: 0.8244 - acc: 0.7305\n",
      "Epoch 4/10\n",
      "60000/60000 [==============================] - 34s 571us/step - loss: 0.5264 - acc: 0.8316\n",
      "Epoch 5/10\n",
      "60000/60000 [==============================] - 32s 539us/step - loss: 0.3887 - acc: 0.8818\n",
      "Epoch 6/10\n",
      "60000/60000 [==============================] - 37s 611us/step - loss: 0.2828 - acc: 0.9166\n",
      "Epoch 7/10\n",
      "60000/60000 [==============================] - 31s 514us/step - loss: 0.2568 - acc: 0.9246\n",
      "Epoch 8/10\n",
      "60000/60000 [==============================] - 35s 585us/step - loss: 0.1906 - acc: 0.9437\n",
      "Epoch 9/10\n",
      "60000/60000 [==============================] - 30s 498us/step - loss: 0.2607 - acc: 0.9237\n",
      "Epoch 10/10\n",
      "60000/60000 [==============================] - 24s 393us/step - loss: 0.1586 - acc: 0.9533\n"
     ]
    },
    {
     "data": {
      "text/plain": [
       "<keras.callbacks.History at 0xb25880908>"
      ]
     },
     "execution_count": 18,
     "metadata": {},
     "output_type": "execute_result"
    }
   ],
   "source": [
    "model.fit(x_train, y_train, batch_size=1000, epochs=10)"
   ]
  },
  {
   "cell_type": "code",
   "execution_count": 37,
   "metadata": {},
   "outputs": [],
   "source": [
    "f1_1=Conv2D(5,(5,5),padding='same',activation='relu')\n",
    "p1_1=MaxPool2D(pool_size=(2,2))\n",
    "f1_2=Conv2D(10,(5,5),padding='same',activation='relu')\n",
    "p1_2=MaxPool2D(pool_size=(2,2))\n",
    "f1_3=Conv2D(20,(5,5),padding='same',activation='relu')\n",
    "p1_3=MaxPool2D(pool_size=(2,2))\n",
    "f1_4=Conv2D(30,(5,5),padding='same',activation='relu')\n",
    "p1_4=MaxPool2D(pool_size=(2,2))\n",
    "\n",
    "flat=Flatten()\n",
    "d1_1=Dense(30,activation='relu')\n",
    "d1_2=Dense(10,activation='softmax')"
   ]
  },
  {
   "cell_type": "code",
   "execution_count": 38,
   "metadata": {},
   "outputs": [],
   "source": [
    "x=Input(shape=(28,28,1))\n",
    "h_1 = f1_1(x)\n",
    "h_2 = p1_1(h_1)\n",
    "h_3 = f1_2(h_2)\n",
    "h_4 = p1_2(h_3)\n",
    "h_5 = f1_3(h_4)\n",
    "h_6 = p1_3(h_5)\n",
    "h_7 = f1_4(h_6)\n",
    "h_8 = p1_4(h_7)\n",
    "h_9 = flat(h_8)\n",
    "h_10 = d1_1(h_9)\n",
    "y    = d1_2(h_10)\n",
    "\n",
    "model2=Model(x,y)"
   ]
  },
  {
   "cell_type": "code",
   "execution_count": 39,
   "metadata": {},
   "outputs": [
    {
     "name": "stdout",
     "output_type": "stream",
     "text": [
      "_________________________________________________________________\n",
      "Layer (type)                 Output Shape              Param #   \n",
      "=================================================================\n",
      "input_7 (InputLayer)         (None, 28, 28, 1)         0         \n",
      "_________________________________________________________________\n",
      "conv2d_14 (Conv2D)           (None, 28, 28, 5)         130       \n",
      "_________________________________________________________________\n",
      "max_pooling2d_14 (MaxPooling (None, 14, 14, 5)         0         \n",
      "_________________________________________________________________\n",
      "conv2d_15 (Conv2D)           (None, 14, 14, 10)        1260      \n",
      "_________________________________________________________________\n",
      "max_pooling2d_15 (MaxPooling (None, 7, 7, 10)          0         \n",
      "_________________________________________________________________\n",
      "conv2d_16 (Conv2D)           (None, 7, 7, 20)          5020      \n",
      "_________________________________________________________________\n",
      "max_pooling2d_16 (MaxPooling (None, 3, 3, 20)          0         \n",
      "_________________________________________________________________\n",
      "conv2d_17 (Conv2D)           (None, 3, 3, 30)          15030     \n",
      "_________________________________________________________________\n",
      "max_pooling2d_17 (MaxPooling (None, 1, 1, 30)          0         \n",
      "_________________________________________________________________\n",
      "flatten_6 (Flatten)          (None, 30)                0         \n",
      "_________________________________________________________________\n",
      "dense_11 (Dense)             (None, 30)                930       \n",
      "_________________________________________________________________\n",
      "dense_12 (Dense)             (None, 10)                310       \n",
      "=================================================================\n",
      "Total params: 22,680\n",
      "Trainable params: 22,680\n",
      "Non-trainable params: 0\n",
      "_________________________________________________________________\n"
     ]
    }
   ],
   "source": [
    "model2.summary()"
   ]
  },
  {
   "cell_type": "code",
   "execution_count": 40,
   "metadata": {},
   "outputs": [],
   "source": [
    "model2.compile(loss='categorical_crossentropy',optimizer=SGD(lr=0.01),metrics=['accuracy'])"
   ]
  },
  {
   "cell_type": "code",
   "execution_count": 41,
   "metadata": {},
   "outputs": [
    {
     "name": "stdout",
     "output_type": "stream",
     "text": [
      "Epoch 1/10\n",
      "60000/60000 [==============================] - 43s 711us/step - loss: 2.2983 - acc: 0.1054\n",
      "Epoch 2/10\n",
      "60000/60000 [==============================] - 41s 686us/step - loss: 2.2910 - acc: 0.1259\n",
      "Epoch 3/10\n",
      "60000/60000 [==============================] - 38s 636us/step - loss: 2.2812 - acc: 0.1980\n",
      "Epoch 4/10\n",
      "60000/60000 [==============================] - 35s 590us/step - loss: 2.2667 - acc: 0.2436\n",
      "Epoch 5/10\n",
      "60000/60000 [==============================] - 34s 571us/step - loss: 2.2422 - acc: 0.2496\n",
      "Epoch 6/10\n",
      "60000/60000 [==============================] - 40s 669us/step - loss: 2.1933 - acc: 0.2758\n",
      "Epoch 7/10\n",
      "60000/60000 [==============================] - 42s 701us/step - loss: 2.0779 - acc: 0.3313\n",
      "Epoch 8/10\n",
      "60000/60000 [==============================] - 37s 621us/step - loss: 1.7678 - acc: 0.4655\n",
      "Epoch 9/10\n",
      "60000/60000 [==============================] - 40s 667us/step - loss: 1.2751 - acc: 0.6123\n",
      "Epoch 10/10\n",
      "60000/60000 [==============================] - 39s 644us/step - loss: 0.8965 - acc: 0.7281\n"
     ]
    },
    {
     "data": {
      "text/plain": [
       "<keras.callbacks.History at 0xb26abcf28>"
      ]
     },
     "execution_count": 41,
     "metadata": {},
     "output_type": "execute_result"
    }
   ],
   "source": [
    "model2.fit(x_train, y_train, batch_size=1000, epochs=10)"
   ]
  },
  {
   "cell_type": "code",
   "execution_count": 30,
   "metadata": {},
   "outputs": [],
   "source": [
    "from keras.layers import Dropout\n",
    "f2_1=Conv2D(16,(5,5),padding='same',activation='relu')\n",
    "p2_1=MaxPool2D(pool_size=(2,2))\n",
    "\n",
    "f2_2=Conv2D(32,(5,5),padding='same',activation='relu')\n",
    "p2_2=MaxPool2D(pool_size=(2,2))\n",
    "\n",
    "flat=Flatten()\n",
    "d2_1=Dense(120,activation='relu')\n",
    "d2_2=Dropout(0.3)\n",
    "d2_3=Dense(10,activation='softmax')"
   ]
  },
  {
   "cell_type": "code",
   "execution_count": 31,
   "metadata": {},
   "outputs": [],
   "source": [
    "x=Input(shape=(28,28,1))\n",
    "h_1 = f2_1(x)\n",
    "h_2 = p2_1(h_1)\n",
    "h_3 = f2_2(h_2)\n",
    "h_4 = p2_2(h_3)\n",
    "h_5 = flat(h_4)\n",
    "h_6 = d2_1(h_5)\n",
    "h_7 = d2_2(h_6)\n",
    "y= d2_3(h_7)\n",
    "model3=Model(x,y)"
   ]
  },
  {
   "cell_type": "code",
   "execution_count": 32,
   "metadata": {},
   "outputs": [
    {
     "name": "stdout",
     "output_type": "stream",
     "text": [
      "_________________________________________________________________\n",
      "Layer (type)                 Output Shape              Param #   \n",
      "=================================================================\n",
      "input_6 (InputLayer)         (None, 28, 28, 1)         0         \n",
      "_________________________________________________________________\n",
      "conv2d_12 (Conv2D)           (None, 28, 28, 16)        416       \n",
      "_________________________________________________________________\n",
      "max_pooling2d_12 (MaxPooling (None, 14, 14, 16)        0         \n",
      "_________________________________________________________________\n",
      "conv2d_13 (Conv2D)           (None, 14, 14, 32)        12832     \n",
      "_________________________________________________________________\n",
      "max_pooling2d_13 (MaxPooling (None, 7, 7, 32)          0         \n",
      "_________________________________________________________________\n",
      "flatten_5 (Flatten)          (None, 1568)              0         \n",
      "_________________________________________________________________\n",
      "dense_9 (Dense)              (None, 120)               188280    \n",
      "_________________________________________________________________\n",
      "dropout_3 (Dropout)          (None, 120)               0         \n",
      "_________________________________________________________________\n",
      "dense_10 (Dense)             (None, 10)                1210      \n",
      "=================================================================\n",
      "Total params: 202,738\n",
      "Trainable params: 202,738\n",
      "Non-trainable params: 0\n",
      "_________________________________________________________________\n"
     ]
    }
   ],
   "source": [
    "model3.summary()"
   ]
  },
  {
   "cell_type": "code",
   "execution_count": 35,
   "metadata": {},
   "outputs": [],
   "source": [
    "model3.compile(loss='categorical_crossentropy',optimizer=Adadelta(),metrics=['accuracy'])"
   ]
  },
  {
   "cell_type": "code",
   "execution_count": 36,
   "metadata": {},
   "outputs": [
    {
     "name": "stdout",
     "output_type": "stream",
     "text": [
      "Epoch 1/10\n",
      "60000/60000 [==============================] - 54s 900us/step - loss: 0.5081 - acc: 0.8533\n",
      "Epoch 2/10\n",
      "60000/60000 [==============================] - 49s 814us/step - loss: 0.2837 - acc: 0.9138\n",
      "Epoch 3/10\n",
      "60000/60000 [==============================] - 50s 836us/step - loss: 0.2044 - acc: 0.9380\n",
      "Epoch 4/10\n",
      "60000/60000 [==============================] - 55s 921us/step - loss: 0.1505 - acc: 0.9541\n",
      "Epoch 5/10\n",
      "60000/60000 [==============================] - 49s 811us/step - loss: 0.1238 - acc: 0.9626\n",
      "Epoch 6/10\n",
      "60000/60000 [==============================] - 56s 926us/step - loss: 0.0993 - acc: 0.9698\n",
      "Epoch 7/10\n",
      "60000/60000 [==============================] - 57s 954us/step - loss: 0.0850 - acc: 0.9741\n",
      "Epoch 8/10\n",
      "60000/60000 [==============================] - 52s 862us/step - loss: 0.0740 - acc: 0.9768\n",
      "Epoch 9/10\n",
      "60000/60000 [==============================] - 50s 831us/step - loss: 0.0653 - acc: 0.9803\n",
      "Epoch 10/10\n",
      "60000/60000 [==============================] - 50s 835us/step - loss: 0.0580 - acc: 0.9819\n"
     ]
    },
    {
     "data": {
      "text/plain": [
       "<keras.callbacks.History at 0xb25dad0f0>"
      ]
     },
     "execution_count": 36,
     "metadata": {},
     "output_type": "execute_result"
    }
   ],
   "source": [
    "model3.fit(x_train, y_train, batch_size=1000, epochs=10)"
   ]
  }
 ],
 "metadata": {
  "kernelspec": {
   "display_name": "Python 3",
   "language": "python",
   "name": "python3"
  },
  "language_info": {
   "codemirror_mode": {
    "name": "ipython",
    "version": 3
   },
   "file_extension": ".py",
   "mimetype": "text/x-python",
   "name": "python",
   "nbconvert_exporter": "python",
   "pygments_lexer": "ipython3",
   "version": "3.7.1"
  }
 },
 "nbformat": 4,
 "nbformat_minor": 2
}
