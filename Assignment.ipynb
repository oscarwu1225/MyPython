{
 "cells": [
  {
   "cell_type": "code",
   "execution_count": 103,
   "metadata": {},
   "outputs": [],
   "source": [
    "%matplotlib inline\n",
    "\n",
    "import numpy as np\n",
    "import matplotlib.pyplot as plt\n",
    "import pandas as pd\n",
    "import matplotlib as mpl\n",
    "from sklearn.linear_model import LinearRegression\n"
   ]
  },
  {
   "cell_type": "code",
   "execution_count": 104,
   "metadata": {},
   "outputs": [
    {
     "data": {
      "text/html": [
       "<div>\n",
       "<style scoped>\n",
       "    .dataframe tbody tr th:only-of-type {\n",
       "        vertical-align: middle;\n",
       "    }\n",
       "\n",
       "    .dataframe tbody tr th {\n",
       "        vertical-align: top;\n",
       "    }\n",
       "\n",
       "    .dataframe thead th {\n",
       "        text-align: right;\n",
       "    }\n",
       "</style>\n",
       "<table border=\"1\" class=\"dataframe\">\n",
       "  <thead>\n",
       "    <tr style=\"text-align: right;\">\n",
       "      <th></th>\n",
       "      <th></th>\n",
       "      <th>地區</th>\n",
       "      <th>Unnamed: 1</th>\n",
       "      <th>Unnamed: 2</th>\n",
       "      <th>Unnamed: 3</th>\n",
       "      <th>Unnamed: 4</th>\n",
       "      <th>Unnamed: 5</th>\n",
       "      <th>Unnamed: 6</th>\n",
       "    </tr>\n",
       "  </thead>\n",
       "  <tbody>\n",
       "    <tr>\n",
       "      <th>1979</th>\n",
       "      <th>不分男女</th>\n",
       "      <td>台閩地區</td>\n",
       "      <td>口腔、口咽及下咽</td>\n",
       "      <td>3.40</td>\n",
       "      <td>439</td>\n",
       "      <td>53.37</td>\n",
       "      <td>55.0</td>\n",
       "      <td>2.50</td>\n",
       "    </tr>\n",
       "    <tr>\n",
       "      <th>1980</th>\n",
       "      <th>不分男女</th>\n",
       "      <td>台閩地區</td>\n",
       "      <td>口腔、口咽及下咽</td>\n",
       "      <td>3.90</td>\n",
       "      <td>509</td>\n",
       "      <td>53.81</td>\n",
       "      <td>54.0</td>\n",
       "      <td>2.85</td>\n",
       "    </tr>\n",
       "    <tr>\n",
       "      <th>1981</th>\n",
       "      <th>不分男女</th>\n",
       "      <td>台閩地區</td>\n",
       "      <td>口腔、口咽及下咽</td>\n",
       "      <td>3.53</td>\n",
       "      <td>469</td>\n",
       "      <td>54.50</td>\n",
       "      <td>54.0</td>\n",
       "      <td>2.58</td>\n",
       "    </tr>\n",
       "    <tr>\n",
       "      <th>1982</th>\n",
       "      <th>不分男女</th>\n",
       "      <td>台閩地區</td>\n",
       "      <td>口腔、口咽及下咽</td>\n",
       "      <td>3.31</td>\n",
       "      <td>445</td>\n",
       "      <td>55.47</td>\n",
       "      <td>56.0</td>\n",
       "      <td>2.40</td>\n",
       "    </tr>\n",
       "    <tr>\n",
       "      <th>1983</th>\n",
       "      <th>不分男女</th>\n",
       "      <td>台閩地區</td>\n",
       "      <td>口腔、口咽及下咽</td>\n",
       "      <td>4.00</td>\n",
       "      <td>552</td>\n",
       "      <td>55.78</td>\n",
       "      <td>57.0</td>\n",
       "      <td>2.94</td>\n",
       "    </tr>\n",
       "  </tbody>\n",
       "</table>\n",
       "</div>"
      ],
      "text/plain": [
       "             地區 Unnamed: 1  Unnamed: 2  Unnamed: 3  Unnamed: 4  Unnamed: 5  \\\n",
       "1979 不分男女  台閩地區   口腔、口咽及下咽        3.40         439       53.37        55.0   \n",
       "1980 不分男女  台閩地區   口腔、口咽及下咽        3.90         509       53.81        54.0   \n",
       "1981 不分男女  台閩地區   口腔、口咽及下咽        3.53         469       54.50        54.0   \n",
       "1982 不分男女  台閩地區   口腔、口咽及下咽        3.31         445       55.47        56.0   \n",
       "1983 不分男女  台閩地區   口腔、口咽及下咽        4.00         552       55.78        57.0   \n",
       "\n",
       "           Unnamed: 6  \n",
       "1979 不分男女        2.50  \n",
       "1980 不分男女        2.85  \n",
       "1981 不分男女        2.58  \n",
       "1982 不分男女        2.40  \n",
       "1983 不分男女        2.94  "
      ]
     },
     "execution_count": 104,
     "metadata": {},
     "output_type": "execute_result"
    }
   ],
   "source": [
    "df=pd.read_excel('/Users/oscarwu/Desktop/cancer2.xlsx')\n",
    "df.head()"
   ]
  },
  {
   "cell_type": "code",
   "execution_count": 105,
   "metadata": {},
   "outputs": [],
   "source": [
    "x=np.array(range(1979,2016))\n",
    "x=x.reshape(len(x),1)\n",
    "y=np.array(df.iloc[0:37,3])"
   ]
  },
  {
   "cell_type": "code",
   "execution_count": 111,
   "metadata": {},
   "outputs": [],
   "source": [
    "regr = LinearRegression()\n",
    "regr.fit(x, y)\n",
    "Y=regr.predict(x)"
   ]
  },
  {
   "cell_type": "code",
   "execution_count": 113,
   "metadata": {},
   "outputs": [
    {
     "data": {
      "text/plain": [
       "[<matplotlib.lines.Line2D at 0x1a1e741e48>]"
      ]
     },
     "execution_count": 113,
     "metadata": {},
     "output_type": "execute_result"
    },
    {
     "data": {
      "image/png": "[encoded data removed]",
      "text/plain": [
       "<Figure size 432x288 with 1 Axes>"
      ]
     },
     "metadata": {
      "needs_background": "light"
     },
     "output_type": "display_data"
    }
   ],
   "source": [
    "plt.scatter(x,y)\n",
    "plt.plot(x,Y,'r')"
   ]
  },
  {
   "cell_type": "code",
   "execution_count": 115,
   "metadata": {},
   "outputs": [
    {
     "data": {
      "text/plain": [
       "array([7511.98648649, 7738.21337127, 7964.44025605])"
      ]
     },
     "execution_count": 115,
     "metadata": {},
     "output_type": "execute_result"
    }
   ],
   "source": [
    "regr.predict([[2016],[2017],[2018]])"
   ]
  },
  {
   "cell_type": "code",
   "execution_count": null,
   "metadata": {},
   "outputs": [],
   "source": []
  },
  {
   "cell_type": "code",
   "execution_count": null,
   "metadata": {},
   "outputs": [],
   "source": []
  }
 ],
 "metadata": {
  "kernelspec": {
   "display_name": "Python 3",
   "language": "python",
   "name": "python3"
  },
  "language_info": {
   "codemirror_mode": {
    "name": "ipython",
    "version": 3
   },
   "file_extension": ".py",
   "mimetype": "text/x-python",
   "name": "python",
   "nbconvert_exporter": "python",
   "pygments_lexer": "ipython3",
   "version": "3.7.1"
  }
 },
 "nbformat": 4,
 "nbformat_minor": 2
}
