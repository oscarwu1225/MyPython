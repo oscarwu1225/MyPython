{
 "cells": [
  {
   "cell_type": "code",
   "execution_count": 82,
   "metadata": {},
   "outputs": [
    {
     "name": "stdout",
     "output_type": "stream",
     "text": [
      "env: KERAS_BACKEND=tensorflow\n"
     ]
    }
   ],
   "source": [
    "%matplotlib inline\n",
    "%env KERAS_BACKEND=tensorflow\n",
    "import numpy as np\n",
    "import matplotlib.pyplot as plt"
   ]
  },
  {
   "cell_type": "code",
   "execution_count": 83,
   "metadata": {},
   "outputs": [],
   "source": [
    "from keras.datasets import mnist"
   ]
  },
  {
   "cell_type": "code",
   "execution_count": 84,
   "metadata": {},
   "outputs": [],
   "source": [
    "(x_train,y_train),(x_test,y_test)=mnist.load_data()"
   ]
  },
  {
   "cell_type": "code",
   "execution_count": 85,
   "metadata": {},
   "outputs": [
    {
     "data": {
      "text/plain": [
       "60000"
      ]
     },
     "execution_count": 85,
     "metadata": {},
     "output_type": "execute_result"
    }
   ],
   "source": [
    "len(x_train)"
   ]
  },
  {
   "cell_type": "code",
   "execution_count": 86,
   "metadata": {},
   "outputs": [],
   "source": [
    "X=x_train[87]"
   ]
  },
  {
   "cell_type": "code",
   "execution_count": 87,
   "metadata": {},
   "outputs": [
    {
     "data": {
      "text/plain": [
       "<matplotlib.image.AxesImage at 0xb294194e0>"
      ]
     },
     "execution_count": 87,
     "metadata": {},
     "output_type": "execute_result"
    },
    {
     "data": {
      "image/png": "[encoded data removed]",
      "text/plain": [
       "<Figure size 432x288 with 1 Axes>"
      ]
     },
     "metadata": {
      "needs_background": "light"
     },
     "output_type": "display_data"
    }
   ],
   "source": [
    "plt.imshow(X, cmap = 'Greys')"
   ]
  },
  {
   "cell_type": "code",
   "execution_count": 88,
   "metadata": {},
   "outputs": [],
   "source": [
    "x_train = x_train.reshape(60000, 784)\n",
    "x_test = x_test.reshape(10000, 784)"
   ]
  },
  {
   "cell_type": "code",
   "execution_count": 89,
   "metadata": {},
   "outputs": [],
   "source": [
    "from keras.utils import np_utils"
   ]
  },
  {
   "cell_type": "code",
   "execution_count": 90,
   "metadata": {},
   "outputs": [],
   "source": [
    "y_train = np_utils.to_categorical(y_train,10)\n",
    "y_test = np_utils.to_categorical(y_test,10)"
   ]
  },
  {
   "cell_type": "code",
   "execution_count": 91,
   "metadata": {},
   "outputs": [
    {
     "data": {
      "text/plain": [
       "array([[0., 0., 0., ..., 0., 0., 0.],\n",
       "       [1., 0., 0., ..., 0., 0., 0.],\n",
       "       [0., 0., 0., ..., 0., 0., 0.],\n",
       "       ...,\n",
       "       [0., 0., 0., ..., 0., 0., 0.],\n",
       "       [0., 0., 0., ..., 0., 0., 0.],\n",
       "       [0., 0., 0., ..., 0., 1., 0.]], dtype=float32)"
      ]
     },
     "execution_count": 91,
     "metadata": {},
     "output_type": "execute_result"
    }
   ],
   "source": [
    "y_train"
   ]
  },
  {
   "cell_type": "code",
   "execution_count": 92,
   "metadata": {},
   "outputs": [],
   "source": [
    "from keras.models import Sequential\n",
    "from keras.layers import Dense, Activation\n",
    "from keras.optimizers import SGD, Adam"
   ]
  },
  {
   "cell_type": "code",
   "execution_count": 93,
   "metadata": {},
   "outputs": [],
   "source": [
    "model=Sequential()"
   ]
  },
  {
   "cell_type": "code",
   "execution_count": 94,
   "metadata": {},
   "outputs": [],
   "source": [
    "model.add(Dense(784,input_dim=784))\n",
    "model.add(Activation('relu'))\n",
    "model.add(Dense(56))\n",
    "model.add(Activation('relu'))\n",
    "model.add(Dense(28))\n",
    "model.add(Activation('relu'))"
   ]
  },
  {
   "cell_type": "code",
   "execution_count": 95,
   "metadata": {},
   "outputs": [],
   "source": [
    "model.add(Dense(10))\n",
    "model.add(Activation('softmax'))"
   ]
  },
  {
   "cell_type": "code",
   "execution_count": 96,
   "metadata": {},
   "outputs": [],
   "source": [
    "model.compile(loss='mse', optimizer=Adam(lr=0.0001), metrics=['accuracy'])"
   ]
  },
  {
   "cell_type": "code",
   "execution_count": 97,
   "metadata": {},
   "outputs": [
    {
     "name": "stdout",
     "output_type": "stream",
     "text": [
      "_________________________________________________________________\n",
      "Layer (type)                 Output Shape              Param #   \n",
      "=================================================================\n",
      "dense_17 (Dense)             (None, 784)               615440    \n",
      "_________________________________________________________________\n",
      "activation_17 (Activation)   (None, 784)               0         \n",
      "_________________________________________________________________\n",
      "dense_18 (Dense)             (None, 56)                43960     \n",
      "_________________________________________________________________\n",
      "activation_18 (Activation)   (None, 56)                0         \n",
      "_________________________________________________________________\n",
      "dense_19 (Dense)             (None, 28)                1596      \n",
      "_________________________________________________________________\n",
      "activation_19 (Activation)   (None, 28)                0         \n",
      "_________________________________________________________________\n",
      "dense_20 (Dense)             (None, 10)                290       \n",
      "_________________________________________________________________\n",
      "activation_20 (Activation)   (None, 10)                0         \n",
      "=================================================================\n",
      "Total params: 661,286\n",
      "Trainable params: 661,286\n",
      "Non-trainable params: 0\n",
      "_________________________________________________________________\n"
     ]
    }
   ],
   "source": [
    "model.summary()"
   ]
  },
  {
   "cell_type": "code",
   "execution_count": 98,
   "metadata": {},
   "outputs": [
    {
     "name": "stdout",
     "output_type": "stream",
     "text": [
      "Epoch 1/50\n",
      "60000/60000 [==============================] - 9s 144us/step - loss: 0.0799 - acc: 0.5921\n",
      "Epoch 2/50\n",
      "60000/60000 [==============================] - 8s 137us/step - loss: 0.0253 - acc: 0.8696\n",
      "Epoch 3/50\n",
      "60000/60000 [==============================] - 8s 137us/step - loss: 0.0194 - acc: 0.9004\n",
      "Epoch 4/50\n",
      "60000/60000 [==============================] - 8s 139us/step - loss: 0.0168 - acc: 0.9139\n",
      "Epoch 5/50\n",
      "60000/60000 [==============================] - 9s 148us/step - loss: 0.0152 - acc: 0.9217\n",
      "Epoch 6/50\n",
      "60000/60000 [==============================] - 9s 157us/step - loss: 0.0138 - acc: 0.9288\n",
      "Epoch 7/50\n",
      "60000/60000 [==============================] - 9s 152us/step - loss: 0.0126 - acc: 0.9355\n",
      "Epoch 8/50\n",
      "60000/60000 [==============================] - 11s 185us/step - loss: 0.0119 - acc: 0.9389\n",
      "Epoch 9/50\n",
      "60000/60000 [==============================] - 11s 189us/step - loss: 0.0119 - acc: 0.9392\n",
      "Epoch 10/50\n",
      "60000/60000 [==============================] - 8s 140us/step - loss: 0.0115 - acc: 0.9411\n",
      "Epoch 11/50\n",
      "60000/60000 [==============================] - 8s 140us/step - loss: 0.0108 - acc: 0.9447\n",
      "Epoch 12/50\n",
      "60000/60000 [==============================] - 8s 137us/step - loss: 0.0105 - acc: 0.9461\n",
      "Epoch 13/50\n",
      "60000/60000 [==============================] - 8s 138us/step - loss: 0.0093 - acc: 0.9524\n",
      "Epoch 14/50\n",
      "60000/60000 [==============================] - 8s 138us/step - loss: 0.0091 - acc: 0.9536\n",
      "Epoch 15/50\n",
      "60000/60000 [==============================] - 8s 138us/step - loss: 0.0089 - acc: 0.9544\n",
      "Epoch 16/50\n",
      "60000/60000 [==============================] - 9s 146us/step - loss: 0.0088 - acc: 0.9550\n",
      "Epoch 17/50\n",
      "60000/60000 [==============================] - 10s 165us/step - loss: 0.0084 - acc: 0.9572\n",
      "Epoch 18/50\n",
      "60000/60000 [==============================] - 9s 145us/step - loss: 0.0077 - acc: 0.9604\n",
      "Epoch 19/50\n",
      "60000/60000 [==============================] - 9s 145us/step - loss: 0.0076 - acc: 0.9611\n",
      "Epoch 20/50\n",
      "60000/60000 [==============================] - 9s 148us/step - loss: 0.0075 - acc: 0.9616\n",
      "Epoch 21/50\n",
      "60000/60000 [==============================] - 9s 146us/step - loss: 0.0078 - acc: 0.9602\n",
      "Epoch 22/50\n",
      "60000/60000 [==============================] - 9s 147us/step - loss: 0.0073 - acc: 0.9630\n",
      "Epoch 23/50\n",
      "60000/60000 [==============================] - 9s 147us/step - loss: 0.0078 - acc: 0.9599\n",
      "Epoch 24/50\n",
      "60000/60000 [==============================] - 9s 148us/step - loss: 0.0073 - acc: 0.9630\n",
      "Epoch 25/50\n",
      "60000/60000 [==============================] - 9s 150us/step - loss: 0.0068 - acc: 0.9656\n",
      "Epoch 26/50\n",
      "60000/60000 [==============================] - 9s 147us/step - loss: 0.0065 - acc: 0.9671\n",
      "Epoch 27/50\n",
      "60000/60000 [==============================] - 9s 148us/step - loss: 0.0069 - acc: 0.9649\n",
      "Epoch 28/50\n",
      "60000/60000 [==============================] - 9s 146us/step - loss: 0.0071 - acc: 0.9637\n",
      "Epoch 29/50\n",
      "60000/60000 [==============================] - 9s 147us/step - loss: 0.0069 - acc: 0.9650\n",
      "Epoch 30/50\n",
      "60000/60000 [==============================] - 9s 151us/step - loss: 0.0068 - acc: 0.9655\n",
      "Epoch 31/50\n",
      "60000/60000 [==============================] - 9s 151us/step - loss: 0.0068 - acc: 0.9651\n",
      "Epoch 32/50\n",
      "60000/60000 [==============================] - 9s 149us/step - loss: 0.0062 - acc: 0.9683\n",
      "Epoch 33/50\n",
      "60000/60000 [==============================] - 9s 149us/step - loss: 0.0059 - acc: 0.9701\n",
      "Epoch 34/50\n",
      "60000/60000 [==============================] - 9s 151us/step - loss: 0.0062 - acc: 0.9686\n",
      "Epoch 35/50\n",
      "60000/60000 [==============================] - 9s 150us/step - loss: 0.0062 - acc: 0.9685\n",
      "Epoch 36/50\n",
      "60000/60000 [==============================] - 9s 150us/step - loss: 0.0059 - acc: 0.9697\n",
      "Epoch 37/50\n",
      "60000/60000 [==============================] - 9s 154us/step - loss: 0.0058 - acc: 0.9703\n",
      "Epoch 38/50\n",
      "60000/60000 [==============================] - 9s 152us/step - loss: 0.0056 - acc: 0.9715\n",
      "Epoch 39/50\n",
      "60000/60000 [==============================] - 9s 149us/step - loss: 0.0051 - acc: 0.9740\n",
      "Epoch 40/50\n",
      "60000/60000 [==============================] - 9s 151us/step - loss: 0.0056 - acc: 0.9713\n",
      "Epoch 41/50\n",
      "60000/60000 [==============================] - 9s 151us/step - loss: 0.0055 - acc: 0.9721\n",
      "Epoch 42/50\n",
      "60000/60000 [==============================] - 9s 151us/step - loss: 0.0055 - acc: 0.9723\n",
      "Epoch 43/50\n",
      "60000/60000 [==============================] - 9s 156us/step - loss: 0.0055 - acc: 0.9722\n",
      "Epoch 44/50\n",
      "60000/60000 [==============================] - 9s 156us/step - loss: 0.0052 - acc: 0.9737\n",
      "Epoch 45/50\n",
      "60000/60000 [==============================] - 10s 160us/step - loss: 0.0053 - acc: 0.9730\n",
      "Epoch 46/50\n",
      "60000/60000 [==============================] - 10s 168us/step - loss: 0.0051 - acc: 0.9742\n",
      "Epoch 47/50\n",
      "60000/60000 [==============================] - 10s 173us/step - loss: 0.0050 - acc: 0.9744\n",
      "Epoch 48/50\n",
      "60000/60000 [==============================] - 11s 181us/step - loss: 0.0053 - acc: 0.9730\n",
      "Epoch 49/50\n",
      "60000/60000 [==============================] - 12s 202us/step - loss: 0.0051 - acc: 0.9740\n",
      "Epoch 50/50\n",
      "60000/60000 [==============================] - 8s 135us/step - loss: 0.0048 - acc: 0.9755\n"
     ]
    },
    {
     "data": {
      "text/plain": [
       "<keras.callbacks.History at 0xb2ae4bc50>"
      ]
     },
     "execution_count": 98,
     "metadata": {},
     "output_type": "execute_result"
    }
   ],
   "source": [
    "model.fit(x_train, y_train, batch_size=100, epochs=50)"
   ]
  },
  {
   "cell_type": "code",
   "execution_count": null,
   "metadata": {},
   "outputs": [],
   "source": []
  }
 ],
 "metadata": {
  "kernelspec": {
   "display_name": "Python 3",
   "language": "python",
   "name": "python3"
  },
  "language_info": {
   "codemirror_mode": {
    "name": "ipython",
    "version": 3
   },
   "file_extension": ".py",
   "mimetype": "text/x-python",
   "name": "python",
   "nbconvert_exporter": "python",
   "pygments_lexer": "ipython3",
   "version": "3.7.1"
  }
 },
 "nbformat": 4,
 "nbformat_minor": 2
}
